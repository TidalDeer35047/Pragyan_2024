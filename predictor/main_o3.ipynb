{
 "cells": [
  {
   "cell_type": "code",
   "execution_count": 1,
   "metadata": {},
   "outputs": [],
   "source": [
    "import pandas as pd\n",
    "import numpy as np\n",
    "from statsmodels.tsa.statespace.sarimax import SARIMAX\n",
    "from sklearn.preprocessing import MinMaxScaler\n",
    "from keras.models import Sequential\n",
    "from keras.layers import Dense, LSTM\n",
    "from sklearn.metrics import mean_squared_error\n",
    "from sklearn.model_selection import train_test_split\n",
    "import matplotlib.pyplot as plt\n",
    "import pmdarima as pm\n",
    "from statsmodels.tsa.stattools import adfuller\n",
    "from statsmodels.graphics.tsaplots import plot_acf, plot_pacf\n",
    "from statsmodels.tsa.seasonal import seasonal_decompose"
   ]
  },
  {
   "cell_type": "code",
   "execution_count": 5,
   "metadata": {},
   "outputs": [],
   "source": [
    "df = pd.read_csv('alipur,-delhi, delhi, india-air-quality.csv', parse_dates=['date'])  \n",
    "df.index = pd.to_datetime(df['date'])\n",
    "df.set_index('date', inplace=True)"
   ]
  },
  {
   "cell_type": "code",
   "execution_count": 6,
   "metadata": {},
   "outputs": [],
   "source": [
    "numeric_columns = [' o3', ' pm25', ' pm10', ' no2', ' so2', ' co']\n",
    "non_numeric_values = df[numeric_columns].apply(lambda x: pd.to_numeric(x, errors='coerce')).isnull().sum()\n",
    "\n",
    "df[numeric_columns] = df[numeric_columns].apply(pd.to_numeric, errors='coerce')"
   ]
  },
  {
   "cell_type": "code",
   "execution_count": 7,
   "metadata": {},
   "outputs": [],
   "source": [
    "df.ffill(inplace=True)"
   ]
  },
  {
   "cell_type": "code",
   "execution_count": 8,
   "metadata": {},
   "outputs": [
    {
     "data": {
      "text/html": [
       "<div>\n",
       "<style scoped>\n",
       "    .dataframe tbody tr th:only-of-type {\n",
       "        vertical-align: middle;\n",
       "    }\n",
       "\n",
       "    .dataframe tbody tr th {\n",
       "        vertical-align: top;\n",
       "    }\n",
       "\n",
       "    .dataframe thead th {\n",
       "        text-align: right;\n",
       "    }\n",
       "</style>\n",
       "<table border=\"1\" class=\"dataframe\">\n",
       "  <thead>\n",
       "    <tr style=\"text-align: right;\">\n",
       "      <th></th>\n",
       "      <th>pm25</th>\n",
       "      <th>pm10</th>\n",
       "      <th>o3</th>\n",
       "      <th>no2</th>\n",
       "      <th>so2</th>\n",
       "      <th>co</th>\n",
       "    </tr>\n",
       "    <tr>\n",
       "      <th>date</th>\n",
       "      <th></th>\n",
       "      <th></th>\n",
       "      <th></th>\n",
       "      <th></th>\n",
       "      <th></th>\n",
       "      <th></th>\n",
       "    </tr>\n",
       "  </thead>\n",
       "  <tbody>\n",
       "    <tr>\n",
       "      <th>2024-01-23</th>\n",
       "      <td>339</td>\n",
       "      <td>181.0</td>\n",
       "      <td>53.0</td>\n",
       "      <td>21.0</td>\n",
       "      <td>13.0</td>\n",
       "      <td>5.0</td>\n",
       "    </tr>\n",
       "    <tr>\n",
       "      <th>2024-01-24</th>\n",
       "      <td>379</td>\n",
       "      <td>312.0</td>\n",
       "      <td>19.0</td>\n",
       "      <td>48.0</td>\n",
       "      <td>15.0</td>\n",
       "      <td>11.0</td>\n",
       "    </tr>\n",
       "    <tr>\n",
       "      <th>2024-01-25</th>\n",
       "      <td>366</td>\n",
       "      <td>71.0</td>\n",
       "      <td>35.0</td>\n",
       "      <td>21.0</td>\n",
       "      <td>13.0</td>\n",
       "      <td>2.0</td>\n",
       "    </tr>\n",
       "    <tr>\n",
       "      <th>2024-01-26</th>\n",
       "      <td>302</td>\n",
       "      <td>157.0</td>\n",
       "      <td>23.0</td>\n",
       "      <td>29.0</td>\n",
       "      <td>12.0</td>\n",
       "      <td>5.0</td>\n",
       "    </tr>\n",
       "    <tr>\n",
       "      <th>2024-01-27</th>\n",
       "      <td>232</td>\n",
       "      <td>157.0</td>\n",
       "      <td>32.0</td>\n",
       "      <td>6.0</td>\n",
       "      <td>5.0</td>\n",
       "      <td>14.0</td>\n",
       "    </tr>\n",
       "  </tbody>\n",
       "</table>\n",
       "</div>"
      ],
      "text/plain": [
       "             pm25   pm10    o3   no2   so2    co\n",
       "date                                            \n",
       "2024-01-23    339  181.0  53.0  21.0  13.0   5.0\n",
       "2024-01-24    379  312.0  19.0  48.0  15.0  11.0\n",
       "2024-01-25    366   71.0  35.0  21.0  13.0   2.0\n",
       "2024-01-26    302  157.0  23.0  29.0  12.0   5.0\n",
       "2024-01-27    232  157.0  32.0   6.0   5.0  14.0"
      ]
     },
     "execution_count": 8,
     "metadata": {},
     "output_type": "execute_result"
    }
   ],
   "source": [
    "df.tail()"
   ]
  },
  {
   "cell_type": "code",
   "execution_count": 9,
   "metadata": {},
   "outputs": [
    {
     "name": "stdout",
     "output_type": "stream",
     "text": [
      " pm25 is stationary\n",
      " pm10 is stationary\n",
      " o3 is stationary\n",
      " no2 is stationary\n",
      " so2 is stationary\n",
      " co is stationary\n"
     ]
    }
   ],
   "source": [
    "for col in df.columns:\n",
    "    \n",
    "    # ADF test\n",
    "    result = adfuller(df[col])  \n",
    "    if result[1] > 0.05:\n",
    "        print(f\"{col} is non-stationary\")\n",
    "        \n",
    "    else:\n",
    "        print(f\"{col} is stationary\")"
   ]
  },
  {
   "cell_type": "code",
   "execution_count": 13,
   "metadata": {},
   "outputs": [],
   "source": [
    "exog_cols = [' pm25', ' pm10', ' no2', ' so2', ' co']\n",
    "train_size = int(len(df) * 0.95)\n",
    "train, test = df[:train_size], df[train_size:]"
   ]
  },
  {
   "cell_type": "code",
   "execution_count": 11,
   "metadata": {},
   "outputs": [
    {
     "name": "stdout",
     "output_type": "stream",
     "text": [
      "Performing stepwise search to minimize aic\n",
      " ARIMA(0,0,0)(0,1,0)[7] intercept   : AIC=15873.654, Time=0.04 sec\n",
      " ARIMA(1,0,0)(1,1,0)[7] intercept   : AIC=14858.226, Time=0.70 sec\n",
      " ARIMA(0,0,1)(0,1,1)[7] intercept   : AIC=14770.798, Time=1.23 sec\n",
      " ARIMA(0,0,0)(0,1,0)[7]             : AIC=15871.675, Time=0.04 sec\n",
      " ARIMA(0,0,1)(0,1,0)[7] intercept   : AIC=15447.227, Time=0.30 sec\n",
      " ARIMA(0,0,1)(1,1,1)[7] intercept   : AIC=inf, Time=2.35 sec\n",
      " ARIMA(0,0,1)(0,1,2)[7] intercept   : AIC=14740.508, Time=4.27 sec\n",
      " ARIMA(0,0,1)(1,1,2)[7] intercept   : AIC=inf, Time=10.23 sec\n",
      " ARIMA(0,0,1)(0,1,3)[7] intercept   : AIC=inf, Time=9.68 sec\n",
      " ARIMA(0,0,1)(1,1,3)[7] intercept   : AIC=inf, Time=21.02 sec\n",
      " ARIMA(0,0,0)(0,1,2)[7] intercept   : AIC=15320.025, Time=2.09 sec\n",
      " ARIMA(1,0,1)(0,1,2)[7] intercept   : AIC=inf, Time=10.80 sec\n",
      " ARIMA(0,0,2)(0,1,2)[7] intercept   : AIC=inf, Time=5.74 sec\n",
      " ARIMA(1,0,0)(0,1,2)[7] intercept   : AIC=inf, Time=6.33 sec\n",
      " ARIMA(1,0,2)(0,1,2)[7] intercept   : AIC=inf, Time=12.06 sec\n",
      " ARIMA(0,0,1)(0,1,2)[7]             : AIC=14738.533, Time=2.61 sec\n",
      " ARIMA(0,0,1)(0,1,1)[7]             : AIC=14768.800, Time=0.49 sec\n",
      " ARIMA(0,0,1)(1,1,2)[7]             : AIC=inf, Time=7.44 sec\n",
      " ARIMA(0,0,1)(0,1,3)[7]             : AIC=inf, Time=6.33 sec\n",
      " ARIMA(0,0,1)(1,1,1)[7]             : AIC=inf, Time=1.36 sec\n",
      " ARIMA(0,0,1)(1,1,3)[7]             : AIC=inf, Time=18.48 sec\n",
      " ARIMA(0,0,0)(0,1,2)[7]             : AIC=15318.032, Time=0.65 sec\n",
      " ARIMA(1,0,1)(0,1,2)[7]             : AIC=inf, Time=5.63 sec\n",
      " ARIMA(0,0,2)(0,1,2)[7]             : AIC=inf, Time=3.83 sec\n",
      " ARIMA(1,0,0)(0,1,2)[7]             : AIC=inf, Time=3.11 sec\n",
      " ARIMA(1,0,2)(0,1,2)[7]             : AIC=inf, Time=10.17 sec\n",
      "\n",
      "Best model:  ARIMA(0,0,1)(0,1,2)[7]          \n",
      "Total fit time: 147.001 seconds\n"
     ]
    }
   ],
   "source": [
    "#??????????????????????\n",
    "scp = pm.auto_arima(train[' o3'], seasonal=True, m=7, \n",
    "                    start_p=0, max_p=3, start_q=0, max_q=3,\n",
    "                    start_P=0, max_P=3, start_Q=0, max_Q=3, \n",
    "                    start_d=0, max_d=3, D=1, max_D=3, \n",
    "                    trace=True, error_action='ignore')"
   ]
  },
  {
   "cell_type": "code",
   "execution_count": 14,
   "metadata": {},
   "outputs": [
    {
     "name": "stderr",
     "output_type": "stream",
     "text": [
      "/home/aks/.local/lib/python3.9/site-packages/statsmodels/tsa/base/tsa_model.py:471: ValueWarning: A date index has been provided, but it has no associated frequency information and so will be ignored when e.g. forecasting.\n",
      "  self._init_dates(dates, freq)\n",
      "/home/aks/.local/lib/python3.9/site-packages/statsmodels/tsa/base/tsa_model.py:471: ValueWarning: A date index has been provided, but it has no associated frequency information and so will be ignored when e.g. forecasting.\n",
      "  self._init_dates(dates, freq)\n"
     ]
    }
   ],
   "source": [
    "sarimax_model = SARIMAX(train[' o3'], exog=train[exog_cols], order=(0, 0, 1), seasonal_order=(0, 1, 2, 7), trend='ct')\n",
    "sarimax_results = sarimax_model.fit(disp=False)"
   ]
  },
  {
   "cell_type": "code",
   "execution_count": 682,
   "metadata": {},
   "outputs": [],
   "source": [
    "#sarimax_model = SARIMAX(seasonal, exog=train[exog_cols], order=(2, 0, 1), seasonal_order=(3, 1, 0, 7))\n",
    "#sarimax_seasonal_results = sarimax_model.fit(disp=False)"
   ]
  },
  {
   "cell_type": "code",
   "execution_count": 15,
   "metadata": {},
   "outputs": [
    {
     "name": "stderr",
     "output_type": "stream",
     "text": [
      "/home/aks/.local/lib/python3.9/site-packages/statsmodels/tsa/base/tsa_model.py:834: ValueWarning: No supported index is available. Prediction results will be given with an integer index beginning at `start`.\n",
      "  return get_prediction_index(\n"
     ]
    }
   ],
   "source": [
    "sarimax_pred = sarimax_results.get_forecast(steps=len(test), exog=test[exog_cols])\n",
    "#sarimax_seasonal_pred = sarimax_seasonal_results.get_forecast(steps=len(test), exog=test[exog_cols])"
   ]
  },
  {
   "cell_type": "code",
   "execution_count": 16,
   "metadata": {},
   "outputs": [],
   "source": [
    "#trend_pred = sarimax_trend_pred.predicted_mean\n",
    "#seasonal_pred = sarimax_seasonal_pred.predicted_mean\n",
    "\n",
    "sarimax_pred_mean = sarimax_pred.predicted_mean\n"
   ]
  },
  {
   "cell_type": "code",
   "execution_count": 17,
   "metadata": {},
   "outputs": [
    {
     "data": {
      "text/plain": [
       "RangeIndex(start=1781, stop=1875, step=1)"
      ]
     },
     "execution_count": 17,
     "metadata": {},
     "output_type": "execute_result"
    }
   ],
   "source": [
    "sarimax_pred_mean.index"
   ]
  },
  {
   "cell_type": "code",
   "execution_count": 18,
   "metadata": {},
   "outputs": [],
   "source": [
    "sarimax_pred_mean.index = test.index"
   ]
  },
  {
   "cell_type": "code",
   "execution_count": 19,
   "metadata": {},
   "outputs": [
    {
     "data": {
      "text/plain": [
       "DatetimeIndex(['2023-10-26', '2023-10-27', '2023-10-28', '2023-10-29',\n",
       "               '2023-10-30', '2023-10-31', '2023-11-01', '2023-11-02',\n",
       "               '2023-11-03', '2023-11-04', '2023-11-05', '2023-11-06',\n",
       "               '2023-11-07', '2023-11-08', '2023-11-09', '2023-11-10',\n",
       "               '2023-11-11', '2023-11-12', '2023-11-13', '2023-11-14',\n",
       "               '2023-11-15', '2023-11-16', '2023-11-17', '2023-11-18',\n",
       "               '2023-11-19', '2023-11-20', '2023-11-21', '2023-11-22',\n",
       "               '2023-11-23', '2023-11-24', '2023-11-25', '2023-11-26',\n",
       "               '2023-11-27', '2023-11-28', '2023-11-29', '2023-11-30',\n",
       "               '2023-12-01', '2023-12-02', '2023-12-03', '2023-12-04',\n",
       "               '2023-12-05', '2023-12-06', '2023-12-07', '2023-12-08',\n",
       "               '2023-12-09', '2023-12-10', '2023-12-11', '2023-12-12',\n",
       "               '2023-12-13', '2023-12-14', '2023-12-15', '2023-12-16',\n",
       "               '2023-12-17', '2023-12-18', '2023-12-19', '2023-12-20',\n",
       "               '2023-12-21', '2023-12-22', '2023-12-23', '2023-12-24',\n",
       "               '2023-12-25', '2023-12-26', '2023-12-27', '2023-12-28',\n",
       "               '2023-12-29', '2023-12-30', '2023-12-31', '2024-01-01',\n",
       "               '2024-01-02', '2024-01-03', '2024-01-04', '2024-01-05',\n",
       "               '2024-01-06', '2024-01-07', '2024-01-08', '2024-01-09',\n",
       "               '2024-01-10', '2024-01-11', '2024-01-12', '2024-01-13',\n",
       "               '2024-01-14', '2024-01-15', '2024-01-16', '2024-01-17',\n",
       "               '2024-01-18', '2024-01-19', '2024-01-20', '2024-01-21',\n",
       "               '2024-01-22', '2024-01-23', '2024-01-24', '2024-01-25',\n",
       "               '2024-01-26', '2024-01-27'],\n",
       "              dtype='datetime64[ns]', name='date', freq=None)"
      ]
     },
     "execution_count": 19,
     "metadata": {},
     "output_type": "execute_result"
    }
   ],
   "source": [
    "test.index"
   ]
  },
  {
   "cell_type": "code",
   "execution_count": 20,
   "metadata": {},
   "outputs": [
    {
     "data": {
      "text/plain": [
       "DatetimeIndex(['2023-10-26', '2023-10-27', '2023-10-28', '2023-10-29',\n",
       "               '2023-10-30', '2023-10-31', '2023-11-01', '2023-11-02',\n",
       "               '2023-11-03', '2023-11-04', '2023-11-05', '2023-11-06',\n",
       "               '2023-11-07', '2023-11-08', '2023-11-09', '2023-11-10',\n",
       "               '2023-11-11', '2023-11-12', '2023-11-13', '2023-11-14',\n",
       "               '2023-11-15', '2023-11-16', '2023-11-17', '2023-11-18',\n",
       "               '2023-11-19', '2023-11-20', '2023-11-21', '2023-11-22',\n",
       "               '2023-11-23', '2023-11-24', '2023-11-25', '2023-11-26',\n",
       "               '2023-11-27', '2023-11-28', '2023-11-29', '2023-11-30',\n",
       "               '2023-12-01', '2023-12-02', '2023-12-03', '2023-12-04',\n",
       "               '2023-12-05', '2023-12-06', '2023-12-07', '2023-12-08',\n",
       "               '2023-12-09', '2023-12-10', '2023-12-11', '2023-12-12',\n",
       "               '2023-12-13', '2023-12-14', '2023-12-15', '2023-12-16',\n",
       "               '2023-12-17', '2023-12-18', '2023-12-19', '2023-12-20',\n",
       "               '2023-12-21', '2023-12-22', '2023-12-23', '2023-12-24',\n",
       "               '2023-12-25', '2023-12-26', '2023-12-27', '2023-12-28',\n",
       "               '2023-12-29', '2023-12-30', '2023-12-31', '2024-01-01',\n",
       "               '2024-01-02', '2024-01-03', '2024-01-04', '2024-01-05',\n",
       "               '2024-01-06', '2024-01-07', '2024-01-08', '2024-01-09',\n",
       "               '2024-01-10', '2024-01-11', '2024-01-12', '2024-01-13',\n",
       "               '2024-01-14', '2024-01-15', '2024-01-16', '2024-01-17',\n",
       "               '2024-01-18', '2024-01-19', '2024-01-20', '2024-01-21',\n",
       "               '2024-01-22', '2024-01-23', '2024-01-24', '2024-01-25',\n",
       "               '2024-01-26', '2024-01-27'],\n",
       "              dtype='datetime64[ns]', name='date', freq=None)"
      ]
     },
     "execution_count": 20,
     "metadata": {},
     "output_type": "execute_result"
    }
   ],
   "source": [
    "sarimax_pred_mean.index"
   ]
  },
  {
   "cell_type": "code",
   "execution_count": 21,
   "metadata": {},
   "outputs": [],
   "source": [
    "sarimax_pred_hourly = np.repeat(sarimax_pred_mean.values, 24)"
   ]
  },
  {
   "cell_type": "code",
   "execution_count": 22,
   "metadata": {},
   "outputs": [],
   "source": [
    "scaler = MinMaxScaler()\n",
    "scaled_data = scaler.fit_transform(sarimax_pred_hourly.reshape(-1, 1))"
   ]
  },
  {
   "cell_type": "code",
   "execution_count": 23,
   "metadata": {},
   "outputs": [],
   "source": [
    "sequence_length = 10\n",
    "x, y = [], []\n",
    "for i in range(len(scaled_data) - sequence_length):\n",
    "    x.append(scaled_data[i:(i + sequence_length)])\n",
    "    y.append(scaled_data[i + sequence_length])\n",
    "\n",
    "x, y = np.array(x), np.array(y)"
   ]
  },
  {
   "cell_type": "code",
   "execution_count": 24,
   "metadata": {},
   "outputs": [],
   "source": [
    "x = np.reshape(x, (x.shape[0], x.shape[1], 1))"
   ]
  },
  {
   "cell_type": "code",
   "execution_count": 25,
   "metadata": {},
   "outputs": [
    {
     "name": "stdout",
     "output_type": "stream",
     "text": [
      "Epoch 1/17\n",
      "71/71 [==============================] - 3s 10ms/step - loss: 0.0268\n",
      "Epoch 2/17\n",
      "71/71 [==============================] - 1s 9ms/step - loss: 0.0047\n",
      "Epoch 3/17\n",
      "71/71 [==============================] - 1s 9ms/step - loss: 0.0044\n",
      "Epoch 4/17\n",
      "71/71 [==============================] - 1s 9ms/step - loss: 0.0041\n",
      "Epoch 5/17\n",
      "71/71 [==============================] - 1s 9ms/step - loss: 0.0039\n",
      "Epoch 6/17\n",
      "71/71 [==============================] - 1s 9ms/step - loss: 0.0037\n",
      "Epoch 7/17\n",
      "71/71 [==============================] - 1s 9ms/step - loss: 0.0032\n",
      "Epoch 8/17\n",
      "71/71 [==============================] - 1s 9ms/step - loss: 0.0030\n",
      "Epoch 9/17\n",
      "71/71 [==============================] - 1s 9ms/step - loss: 0.0028\n",
      "Epoch 10/17\n",
      "71/71 [==============================] - 1s 9ms/step - loss: 0.0025\n",
      "Epoch 11/17\n",
      "71/71 [==============================] - 1s 9ms/step - loss: 0.0024\n",
      "Epoch 12/17\n",
      "71/71 [==============================] - 1s 9ms/step - loss: 0.0029\n",
      "Epoch 13/17\n",
      "71/71 [==============================] - 1s 9ms/step - loss: 0.0022\n",
      "Epoch 14/17\n",
      "71/71 [==============================] - 1s 9ms/step - loss: 0.0021\n",
      "Epoch 15/17\n",
      "71/71 [==============================] - 1s 9ms/step - loss: 0.0021\n",
      "Epoch 16/17\n",
      "71/71 [==============================] - 1s 9ms/step - loss: 0.0019\n",
      "Epoch 17/17\n",
      "71/71 [==============================] - 1s 8ms/step - loss: 0.0018\n"
     ]
    },
    {
     "data": {
      "text/plain": [
       "<keras.callbacks.History at 0x7fd208912d00>"
      ]
     },
     "execution_count": 25,
     "metadata": {},
     "output_type": "execute_result"
    }
   ],
   "source": [
    "lstm_model = Sequential()\n",
    "lstm_model.add(LSTM(units=50, return_sequences=True, input_shape=(x.shape[1], 1)))\n",
    "lstm_model.add(LSTM(units=50))\n",
    "lstm_model.add(Dense(units=1))\n",
    "lstm_model.compile(optimizer='adam', loss='mean_squared_error')\n",
    "lstm_model.fit(x, y, epochs=17, batch_size=32)"
   ]
  },
  {
   "cell_type": "code",
   "execution_count": 26,
   "metadata": {},
   "outputs": [],
   "source": [
    "future_hours = 12  # Number of hours to predict\n",
    "input_sequence = scaled_data[-sequence_length:].reshape(1, -1, 1)"
   ]
  },
  {
   "cell_type": "code",
   "execution_count": 27,
   "metadata": {},
   "outputs": [
    {
     "name": "stdout",
     "output_type": "stream",
     "text": [
      "1/1 [==============================] - 0s 441ms/step\n",
      "1/1 [==============================] - 0s 17ms/step\n",
      "1/1 [==============================] - 0s 17ms/step\n",
      "1/1 [==============================] - 0s 16ms/step\n",
      "1/1 [==============================] - 0s 16ms/step\n",
      "1/1 [==============================] - 0s 16ms/step\n",
      "1/1 [==============================] - 0s 16ms/step\n",
      "1/1 [==============================] - 0s 17ms/step\n",
      "1/1 [==============================] - 0s 16ms/step\n",
      "1/1 [==============================] - 0s 17ms/step\n",
      "1/1 [==============================] - 0s 17ms/step\n",
      "1/1 [==============================] - 0s 16ms/step\n"
     ]
    }
   ],
   "source": [
    "lstm_preds = []\n",
    "for _ in range(future_hours):\n",
    "    lstm_pred = lstm_model.predict(input_sequence)\n",
    "    lstm_preds.append(lstm_pred[0, 0])\n",
    "    input_sequence = np.append(input_sequence[:, 1:, :], lstm_pred.reshape(1, 1, 1), axis=1)"
   ]
  },
  {
   "cell_type": "code",
   "execution_count": 28,
   "metadata": {},
   "outputs": [],
   "source": [
    "lstm_preds = scaler.inverse_transform(np.array(lstm_preds).reshape(-1, 1))"
   ]
  },
  {
   "cell_type": "code",
   "execution_count": 29,
   "metadata": {},
   "outputs": [
    {
     "data": {
      "text/plain": [
       "array([[17.43443 ],\n",
       "       [17.471281],\n",
       "       [17.521244],\n",
       "       [17.576956],\n",
       "       [17.634958],\n",
       "       [17.693518],\n",
       "       [17.751715],\n",
       "       [17.808983],\n",
       "       [17.864927],\n",
       "       [17.919252],\n",
       "       [17.971708],\n",
       "       [18.02485 ]], dtype=float32)"
      ]
     },
     "execution_count": 29,
     "metadata": {},
     "output_type": "execute_result"
    }
   ],
   "source": [
    "lstm_preds"
   ]
  },
  {
   "cell_type": "code",
   "execution_count": 30,
   "metadata": {},
   "outputs": [
    {
     "data": {
      "text/plain": [
       "DatetimeIndex(['2023-10-26', '2023-10-27', '2023-10-28', '2023-10-29',\n",
       "               '2023-10-30', '2023-10-31', '2023-11-01', '2023-11-02',\n",
       "               '2023-11-03', '2023-11-04', '2023-11-05', '2023-11-06',\n",
       "               '2023-11-07', '2023-11-08', '2023-11-09', '2023-11-10',\n",
       "               '2023-11-11', '2023-11-12', '2023-11-13', '2023-11-14',\n",
       "               '2023-11-15', '2023-11-16', '2023-11-17', '2023-11-18',\n",
       "               '2023-11-19', '2023-11-20', '2023-11-21', '2023-11-22',\n",
       "               '2023-11-23', '2023-11-24', '2023-11-25', '2023-11-26',\n",
       "               '2023-11-27', '2023-11-28', '2023-11-29', '2023-11-30',\n",
       "               '2023-12-01', '2023-12-02', '2023-12-03', '2023-12-04',\n",
       "               '2023-12-05', '2023-12-06', '2023-12-07', '2023-12-08',\n",
       "               '2023-12-09', '2023-12-10', '2023-12-11', '2023-12-12',\n",
       "               '2023-12-13', '2023-12-14', '2023-12-15', '2023-12-16',\n",
       "               '2023-12-17', '2023-12-18', '2023-12-19', '2023-12-20',\n",
       "               '2023-12-21', '2023-12-22', '2023-12-23', '2023-12-24',\n",
       "               '2023-12-25', '2023-12-26', '2023-12-27', '2023-12-28',\n",
       "               '2023-12-29', '2023-12-30', '2023-12-31', '2024-01-01',\n",
       "               '2024-01-02', '2024-01-03', '2024-01-04', '2024-01-05',\n",
       "               '2024-01-06', '2024-01-07', '2024-01-08', '2024-01-09',\n",
       "               '2024-01-10', '2024-01-11', '2024-01-12', '2024-01-13',\n",
       "               '2024-01-14', '2024-01-15', '2024-01-16', '2024-01-17',\n",
       "               '2024-01-18', '2024-01-19', '2024-01-20', '2024-01-21',\n",
       "               '2024-01-22', '2024-01-23', '2024-01-24', '2024-01-25',\n",
       "               '2024-01-26', '2024-01-27'],\n",
       "              dtype='datetime64[ns]', name='date', freq=None)"
      ]
     },
     "execution_count": 30,
     "metadata": {},
     "output_type": "execute_result"
    }
   ],
   "source": [
    "test.index"
   ]
  },
  {
   "cell_type": "code",
   "execution_count": 31,
   "metadata": {},
   "outputs": [
    {
     "data": {
      "text/html": [
       "<div>\n",
       "<style scoped>\n",
       "    .dataframe tbody tr th:only-of-type {\n",
       "        vertical-align: middle;\n",
       "    }\n",
       "\n",
       "    .dataframe tbody tr th {\n",
       "        vertical-align: top;\n",
       "    }\n",
       "\n",
       "    .dataframe thead th {\n",
       "        text-align: right;\n",
       "    }\n",
       "</style>\n",
       "<table border=\"1\" class=\"dataframe\">\n",
       "  <thead>\n",
       "    <tr style=\"text-align: right;\">\n",
       "      <th></th>\n",
       "      <th>0</th>\n",
       "    </tr>\n",
       "  </thead>\n",
       "  <tbody>\n",
       "    <tr>\n",
       "      <th>2024-01-27 00:00:00</th>\n",
       "      <td>17.434429</td>\n",
       "    </tr>\n",
       "    <tr>\n",
       "      <th>2024-01-27 01:00:00</th>\n",
       "      <td>17.471281</td>\n",
       "    </tr>\n",
       "    <tr>\n",
       "      <th>2024-01-27 02:00:00</th>\n",
       "      <td>17.521244</td>\n",
       "    </tr>\n",
       "    <tr>\n",
       "      <th>2024-01-27 03:00:00</th>\n",
       "      <td>17.576956</td>\n",
       "    </tr>\n",
       "    <tr>\n",
       "      <th>2024-01-27 04:00:00</th>\n",
       "      <td>17.634958</td>\n",
       "    </tr>\n",
       "    <tr>\n",
       "      <th>2024-01-27 05:00:00</th>\n",
       "      <td>17.693518</td>\n",
       "    </tr>\n",
       "    <tr>\n",
       "      <th>2024-01-27 06:00:00</th>\n",
       "      <td>17.751715</td>\n",
       "    </tr>\n",
       "    <tr>\n",
       "      <th>2024-01-27 07:00:00</th>\n",
       "      <td>17.808983</td>\n",
       "    </tr>\n",
       "    <tr>\n",
       "      <th>2024-01-27 08:00:00</th>\n",
       "      <td>17.864927</td>\n",
       "    </tr>\n",
       "    <tr>\n",
       "      <th>2024-01-27 09:00:00</th>\n",
       "      <td>17.919252</td>\n",
       "    </tr>\n",
       "    <tr>\n",
       "      <th>2024-01-27 10:00:00</th>\n",
       "      <td>17.971708</td>\n",
       "    </tr>\n",
       "    <tr>\n",
       "      <th>2024-01-27 11:00:00</th>\n",
       "      <td>18.024851</td>\n",
       "    </tr>\n",
       "  </tbody>\n",
       "</table>\n",
       "</div>"
      ],
      "text/plain": [
       "                             0\n",
       "2024-01-27 00:00:00  17.434429\n",
       "2024-01-27 01:00:00  17.471281\n",
       "2024-01-27 02:00:00  17.521244\n",
       "2024-01-27 03:00:00  17.576956\n",
       "2024-01-27 04:00:00  17.634958\n",
       "2024-01-27 05:00:00  17.693518\n",
       "2024-01-27 06:00:00  17.751715\n",
       "2024-01-27 07:00:00  17.808983\n",
       "2024-01-27 08:00:00  17.864927\n",
       "2024-01-27 09:00:00  17.919252\n",
       "2024-01-27 10:00:00  17.971708\n",
       "2024-01-27 11:00:00  18.024851"
      ]
     },
     "execution_count": 31,
     "metadata": {},
     "output_type": "execute_result"
    }
   ],
   "source": [
    "pd.DataFrame(lstm_preds, pd.date_range(start=test.index.max(), periods=future_hours, freq='H'))"
   ]
  },
  {
   "cell_type": "code",
   "execution_count": 32,
   "metadata": {},
   "outputs": [
    {
     "data": {
      "image/png": "[encoded data removed]",
      "text/plain": [
       "<Figure size 1500x600 with 1 Axes>"
      ]
     },
     "metadata": {},
     "output_type": "display_data"
    }
   ],
   "source": [
    "plt.figure(figsize=(15, 6))\n",
    "#plt.plot(train.index, train[' o3'], label='Train data', color='blue')\n",
    "plt.plot(test.index, test[' o3'], label='Actual Data', color='blue')\n",
    "plt.plot(sarimax_pred_mean.index, sarimax_pred_mean.values, label='SARIMAX Predictions', color='green')\n",
    "plt.plot(pd.date_range(start=test.index.max(), periods=future_hours, freq='H'), lstm_preds, label='LSTM Predictions', color='red')\n",
    "plt.legend()\n",
    "plt.title('SARIMAX-LSTM Model Predictions - o3')\n",
    "plt.xlabel('Date')\n",
    "plt.ylabel('pm25')\n",
    "plt.show()"
   ]
  },
  {
   "cell_type": "code",
   "execution_count": 34,
   "metadata": {},
   "outputs": [
    {
     "data": {
      "text/plain": [
       "9.732986401754122"
      ]
     },
     "execution_count": 34,
     "metadata": {},
     "output_type": "execute_result"
    }
   ],
   "source": [
    "rmse = mean_squared_error(test[' o3'], sarimax_pred_mean.values)\n",
    "rmse**0.5"
   ]
  }
 ],
 "metadata": {
  "kernelspec": {
   "display_name": "Python 3",
   "language": "python",
   "name": "python3"
  },
  "language_info": {
   "codemirror_mode": {
    "name": "ipython",
    "version": 3
   },
   "file_extension": ".py",
   "mimetype": "text/x-python",
   "name": "python",
   "nbconvert_exporter": "python",
   "pygments_lexer": "ipython3",
   "version": "3.9.2"
  }
 },
 "nbformat": 4,
 "nbformat_minor": 2
}
