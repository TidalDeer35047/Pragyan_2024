{
 "cells": [
  {
   "cell_type": "code",
   "execution_count": 1,
   "metadata": {},
   "outputs": [],
   "source": [
    "import pandas as pd\n",
    "import numpy as np\n",
    "from statsmodels.tsa.statespace.sarimax import SARIMAX\n",
    "from sklearn.preprocessing import MinMaxScaler\n",
    "from keras.models import Sequential\n",
    "from keras.layers import Dense, LSTM\n",
    "from sklearn.metrics import mean_squared_error\n",
    "from sklearn.model_selection import train_test_split\n",
    "import matplotlib.pyplot as plt\n",
    "import pmdarima as pm\n",
    "from statsmodels.tsa.stattools import adfuller\n",
    "from statsmodels.graphics.tsaplots import plot_acf, plot_pacf\n",
    "from statsmodels.tsa.seasonal import seasonal_decompose"
   ]
  },
  {
   "cell_type": "code",
   "execution_count": 2,
   "metadata": {},
   "outputs": [],
   "source": [
    "df = pd.read_csv('alipur,-delhi, delhi, india-air-quality.csv', parse_dates=['date'])  \n",
    "df.index = pd.to_datetime(df['date'])\n",
    "df.set_index('date', inplace=True)"
   ]
  },
  {
   "cell_type": "code",
   "execution_count": 3,
   "metadata": {},
   "outputs": [],
   "source": [
    "numeric_columns = [' so2', ' pm25', ' pm10', ' o3', ' no2', ' co']\n",
    "non_numeric_values = df[numeric_columns].apply(lambda x: pd.to_numeric(x, errors='coerce')).isnull().sum()\n",
    "\n",
    "df[numeric_columns] = df[numeric_columns].apply(pd.to_numeric, errors='coerce')"
   ]
  },
  {
   "cell_type": "code",
   "execution_count": 4,
   "metadata": {},
   "outputs": [],
   "source": [
    "df.ffill(inplace=True)"
   ]
  },
  {
   "cell_type": "code",
   "execution_count": 5,
   "metadata": {},
   "outputs": [
    {
     "data": {
      "text/html": [
       "<div>\n",
       "<style scoped>\n",
       "    .dataframe tbody tr th:only-of-type {\n",
       "        vertical-align: middle;\n",
       "    }\n",
       "\n",
       "    .dataframe tbody tr th {\n",
       "        vertical-align: top;\n",
       "    }\n",
       "\n",
       "    .dataframe thead th {\n",
       "        text-align: right;\n",
       "    }\n",
       "</style>\n",
       "<table border=\"1\" class=\"dataframe\">\n",
       "  <thead>\n",
       "    <tr style=\"text-align: right;\">\n",
       "      <th></th>\n",
       "      <th>pm25</th>\n",
       "      <th>pm10</th>\n",
       "      <th>o3</th>\n",
       "      <th>no2</th>\n",
       "      <th>so2</th>\n",
       "      <th>co</th>\n",
       "    </tr>\n",
       "    <tr>\n",
       "      <th>date</th>\n",
       "      <th></th>\n",
       "      <th></th>\n",
       "      <th></th>\n",
       "      <th></th>\n",
       "      <th></th>\n",
       "      <th></th>\n",
       "    </tr>\n",
       "  </thead>\n",
       "  <tbody>\n",
       "    <tr>\n",
       "      <th>2024-01-23</th>\n",
       "      <td>339</td>\n",
       "      <td>181.0</td>\n",
       "      <td>53.0</td>\n",
       "      <td>21.0</td>\n",
       "      <td>13.0</td>\n",
       "      <td>5.0</td>\n",
       "    </tr>\n",
       "    <tr>\n",
       "      <th>2024-01-24</th>\n",
       "      <td>379</td>\n",
       "      <td>312.0</td>\n",
       "      <td>19.0</td>\n",
       "      <td>48.0</td>\n",
       "      <td>15.0</td>\n",
       "      <td>11.0</td>\n",
       "    </tr>\n",
       "    <tr>\n",
       "      <th>2024-01-25</th>\n",
       "      <td>366</td>\n",
       "      <td>71.0</td>\n",
       "      <td>35.0</td>\n",
       "      <td>21.0</td>\n",
       "      <td>13.0</td>\n",
       "      <td>2.0</td>\n",
       "    </tr>\n",
       "    <tr>\n",
       "      <th>2024-01-26</th>\n",
       "      <td>302</td>\n",
       "      <td>157.0</td>\n",
       "      <td>23.0</td>\n",
       "      <td>29.0</td>\n",
       "      <td>12.0</td>\n",
       "      <td>5.0</td>\n",
       "    </tr>\n",
       "    <tr>\n",
       "      <th>2024-01-27</th>\n",
       "      <td>232</td>\n",
       "      <td>157.0</td>\n",
       "      <td>32.0</td>\n",
       "      <td>6.0</td>\n",
       "      <td>5.0</td>\n",
       "      <td>14.0</td>\n",
       "    </tr>\n",
       "  </tbody>\n",
       "</table>\n",
       "</div>"
      ],
      "text/plain": [
       "             pm25   pm10    o3   no2   so2    co\n",
       "date                                            \n",
       "2024-01-23    339  181.0  53.0  21.0  13.0   5.0\n",
       "2024-01-24    379  312.0  19.0  48.0  15.0  11.0\n",
       "2024-01-25    366   71.0  35.0  21.0  13.0   2.0\n",
       "2024-01-26    302  157.0  23.0  29.0  12.0   5.0\n",
       "2024-01-27    232  157.0  32.0   6.0   5.0  14.0"
      ]
     },
     "execution_count": 5,
     "metadata": {},
     "output_type": "execute_result"
    }
   ],
   "source": [
    "df.tail()"
   ]
  },
  {
   "cell_type": "code",
   "execution_count": 6,
   "metadata": {},
   "outputs": [
    {
     "name": "stdout",
     "output_type": "stream",
     "text": [
      " pm25 is stationary\n",
      " pm10 is stationary\n",
      " o3 is stationary\n",
      " no2 is stationary\n",
      " so2 is stationary\n",
      " co is stationary\n"
     ]
    }
   ],
   "source": [
    "for col in df.columns:\n",
    "    \n",
    "    # ADF test\n",
    "    result = adfuller(df[col])  \n",
    "    if result[1] > 0.05:\n",
    "        print(f\"{col} is non-stationary\")\n",
    "        \n",
    "    else:\n",
    "        print(f\"{col} is stationary\")"
   ]
  },
  {
   "cell_type": "code",
   "execution_count": 7,
   "metadata": {},
   "outputs": [],
   "source": [
    "exog_cols = [' pm25', ' pm10', ' o3', ' no2', ' co']\n",
    "train_size = int(len(df) * 0.95)\n",
    "train, test = df[:train_size], df[train_size:]"
   ]
  },
  {
   "cell_type": "code",
   "execution_count": 8,
   "metadata": {},
   "outputs": [
    {
     "name": "stdout",
     "output_type": "stream",
     "text": [
      "Performing stepwise search to minimize aic\n",
      " ARIMA(0,0,0)(0,1,0)[7] intercept   : AIC=9765.191, Time=0.04 sec\n",
      " ARIMA(1,0,0)(1,1,0)[7] intercept   : AIC=8503.328, Time=0.51 sec\n",
      " ARIMA(0,0,1)(0,1,1)[7] intercept   : AIC=8806.314, Time=0.55 sec\n",
      " ARIMA(0,0,0)(0,1,0)[7]             : AIC=9763.495, Time=0.04 sec\n",
      " ARIMA(1,0,0)(0,1,0)[7] intercept   : AIC=8975.880, Time=0.12 sec\n",
      " ARIMA(1,0,0)(2,1,0)[7] intercept   : AIC=8364.888, Time=1.65 sec\n",
      " ARIMA(1,0,0)(3,1,0)[7] intercept   : AIC=8297.530, Time=3.89 sec\n",
      " ARIMA(1,0,0)(3,1,1)[7] intercept   : AIC=inf, Time=17.19 sec\n",
      " ARIMA(1,0,0)(2,1,1)[7] intercept   : AIC=inf, Time=8.87 sec\n",
      " ARIMA(0,0,0)(3,1,0)[7] intercept   : AIC=9463.331, Time=3.20 sec\n",
      " ARIMA(2,0,0)(3,1,0)[7] intercept   : AIC=8209.608, Time=5.49 sec\n",
      " ARIMA(2,0,0)(2,1,0)[7] intercept   : AIC=8284.510, Time=2.88 sec\n",
      " ARIMA(2,0,0)(3,1,1)[7] intercept   : AIC=inf, Time=22.17 sec\n",
      " ARIMA(2,0,0)(2,1,1)[7] intercept   : AIC=inf, Time=12.24 sec\n",
      " ARIMA(3,0,0)(3,1,0)[7] intercept   : AIC=8208.531, Time=7.04 sec\n",
      " ARIMA(3,0,0)(2,1,0)[7] intercept   : AIC=8285.549, Time=3.37 sec\n",
      " ARIMA(3,0,0)(3,1,1)[7] intercept   : AIC=inf, Time=28.96 sec\n",
      " ARIMA(3,0,0)(2,1,1)[7] intercept   : AIC=inf, Time=13.39 sec\n",
      " ARIMA(3,0,1)(3,1,0)[7] intercept   : AIC=8210.278, Time=17.81 sec\n",
      " ARIMA(2,0,1)(3,1,0)[7] intercept   : AIC=8208.294, Time=9.87 sec\n",
      " ARIMA(2,0,1)(2,1,0)[7] intercept   : AIC=8285.552, Time=5.15 sec\n",
      " ARIMA(2,0,1)(3,1,1)[7] intercept   : AIC=inf, Time=26.95 sec\n",
      " ARIMA(2,0,1)(2,1,1)[7] intercept   : AIC=inf, Time=13.76 sec\n",
      " ARIMA(1,0,1)(3,1,0)[7] intercept   : AIC=8207.533, Time=5.78 sec\n",
      " ARIMA(1,0,1)(2,1,0)[7] intercept   : AIC=8286.745, Time=2.76 sec\n",
      " ARIMA(1,0,1)(3,1,1)[7] intercept   : AIC=inf, Time=24.63 sec\n",
      " ARIMA(1,0,1)(2,1,1)[7] intercept   : AIC=inf, Time=11.17 sec\n",
      " ARIMA(0,0,1)(3,1,0)[7] intercept   : AIC=8838.185, Time=5.17 sec\n",
      " ARIMA(1,0,2)(3,1,0)[7] intercept   : AIC=8208.324, Time=7.18 sec\n",
      " ARIMA(0,0,2)(3,1,0)[7] intercept   : AIC=8557.522, Time=5.54 sec\n",
      " ARIMA(2,0,2)(3,1,0)[7] intercept   : AIC=8208.431, Time=30.49 sec\n",
      " ARIMA(1,0,1)(3,1,0)[7]             : AIC=8205.672, Time=1.52 sec\n",
      " ARIMA(1,0,1)(2,1,0)[7]             : AIC=8284.864, Time=1.05 sec\n",
      " ARIMA(1,0,1)(3,1,1)[7]             : AIC=inf, Time=11.78 sec\n",
      " ARIMA(1,0,1)(2,1,1)[7]             : AIC=inf, Time=4.83 sec\n",
      " ARIMA(0,0,1)(3,1,0)[7]             : AIC=8836.947, Time=1.19 sec\n",
      " ARIMA(1,0,0)(3,1,0)[7]             : AIC=8295.787, Time=1.41 sec\n",
      " ARIMA(2,0,1)(3,1,0)[7]             : AIC=8206.439, Time=2.52 sec\n",
      " ARIMA(1,0,2)(3,1,0)[7]             : AIC=8206.470, Time=1.86 sec\n",
      " ARIMA(0,0,0)(3,1,0)[7]             : AIC=9462.228, Time=0.73 sec\n",
      " ARIMA(0,0,2)(3,1,0)[7]             : AIC=8556.155, Time=1.23 sec\n",
      " ARIMA(2,0,0)(3,1,0)[7]             : AIC=8207.770, Time=1.91 sec\n",
      " ARIMA(2,0,2)(3,1,0)[7]             : AIC=8206.575, Time=8.24 sec\n",
      "\n",
      "Best model:  ARIMA(1,0,1)(3,1,0)[7]          \n",
      "Total fit time: 336.177 seconds\n"
     ]
    }
   ],
   "source": [
    "#??????????????????????\n",
    "scp = pm.auto_arima(train[' so2'], seasonal=True, m=7, \n",
    "                    start_p=0, max_p=3, start_q=0, max_q=3,\n",
    "                    start_P=0, max_P=3, start_Q=0, max_Q=3, \n",
    "                    start_d=0, max_d=3, D=1, max_D=3, \n",
    "                    trace=True, error_action='ignore')"
   ]
  },
  {
   "cell_type": "code",
   "execution_count": 9,
   "metadata": {},
   "outputs": [
    {
     "name": "stderr",
     "output_type": "stream",
     "text": [
      "/home/aks/.local/lib/python3.9/site-packages/statsmodels/tsa/base/tsa_model.py:471: ValueWarning: A date index has been provided, but it has no associated frequency information and so will be ignored when e.g. forecasting.\n",
      "  self._init_dates(dates, freq)\n",
      "/home/aks/.local/lib/python3.9/site-packages/statsmodels/tsa/base/tsa_model.py:471: ValueWarning: A date index has been provided, but it has no associated frequency information and so will be ignored when e.g. forecasting.\n",
      "  self._init_dates(dates, freq)\n"
     ]
    }
   ],
   "source": [
    "sarimax_model = SARIMAX(train[' so2'], exog=train[exog_cols], order=(1, 0, 1), seasonal_order=(3, 1, 0, 7), trend='ct')\n",
    "sarimax_results = sarimax_model.fit(disp=False)"
   ]
  },
  {
   "cell_type": "code",
   "execution_count": 10,
   "metadata": {},
   "outputs": [],
   "source": [
    "#sarimax_model = SARIMAX(seasonal, exog=train[exog_cols], order=(2, 0, 1), seasonal_order=(3, 1, 0, 7))\n",
    "#sarimax_seasonal_results = sarimax_model.fit(disp=False)"
   ]
  },
  {
   "cell_type": "code",
   "execution_count": 11,
   "metadata": {},
   "outputs": [
    {
     "name": "stderr",
     "output_type": "stream",
     "text": [
      "/home/aks/.local/lib/python3.9/site-packages/statsmodels/tsa/base/tsa_model.py:834: ValueWarning: No supported index is available. Prediction results will be given with an integer index beginning at `start`.\n",
      "  return get_prediction_index(\n"
     ]
    }
   ],
   "source": [
    "sarimax_pred = sarimax_results.get_forecast(steps=len(test), exog=test[exog_cols])\n",
    "#sarimax_seasonal_pred = sarimax_seasonal_results.get_forecast(steps=len(test), exog=test[exog_cols])"
   ]
  },
  {
   "cell_type": "code",
   "execution_count": 12,
   "metadata": {},
   "outputs": [],
   "source": [
    "#trend_pred = sarimax_trend_pred.predicted_mean\n",
    "#seasonal_pred = sarimax_seasonal_pred.predicted_mean\n",
    "\n",
    "sarimax_pred_mean = sarimax_pred.predicted_mean\n"
   ]
  },
  {
   "cell_type": "code",
   "execution_count": 13,
   "metadata": {},
   "outputs": [
    {
     "data": {
      "text/plain": [
       "RangeIndex(start=1781, stop=1875, step=1)"
      ]
     },
     "execution_count": 13,
     "metadata": {},
     "output_type": "execute_result"
    }
   ],
   "source": [
    "sarimax_pred_mean.index"
   ]
  },
  {
   "cell_type": "code",
   "execution_count": 14,
   "metadata": {},
   "outputs": [],
   "source": [
    "sarimax_pred_mean.index = test.index"
   ]
  },
  {
   "cell_type": "code",
   "execution_count": 15,
   "metadata": {},
   "outputs": [
    {
     "data": {
      "text/plain": [
       "DatetimeIndex(['2023-10-26', '2023-10-27', '2023-10-28', '2023-10-29',\n",
       "               '2023-10-30', '2023-10-31', '2023-11-01', '2023-11-02',\n",
       "               '2023-11-03', '2023-11-04', '2023-11-05', '2023-11-06',\n",
       "               '2023-11-07', '2023-11-08', '2023-11-09', '2023-11-10',\n",
       "               '2023-11-11', '2023-11-12', '2023-11-13', '2023-11-14',\n",
       "               '2023-11-15', '2023-11-16', '2023-11-17', '2023-11-18',\n",
       "               '2023-11-19', '2023-11-20', '2023-11-21', '2023-11-22',\n",
       "               '2023-11-23', '2023-11-24', '2023-11-25', '2023-11-26',\n",
       "               '2023-11-27', '2023-11-28', '2023-11-29', '2023-11-30',\n",
       "               '2023-12-01', '2023-12-02', '2023-12-03', '2023-12-04',\n",
       "               '2023-12-05', '2023-12-06', '2023-12-07', '2023-12-08',\n",
       "               '2023-12-09', '2023-12-10', '2023-12-11', '2023-12-12',\n",
       "               '2023-12-13', '2023-12-14', '2023-12-15', '2023-12-16',\n",
       "               '2023-12-17', '2023-12-18', '2023-12-19', '2023-12-20',\n",
       "               '2023-12-21', '2023-12-22', '2023-12-23', '2023-12-24',\n",
       "               '2023-12-25', '2023-12-26', '2023-12-27', '2023-12-28',\n",
       "               '2023-12-29', '2023-12-30', '2023-12-31', '2024-01-01',\n",
       "               '2024-01-02', '2024-01-03', '2024-01-04', '2024-01-05',\n",
       "               '2024-01-06', '2024-01-07', '2024-01-08', '2024-01-09',\n",
       "               '2024-01-10', '2024-01-11', '2024-01-12', '2024-01-13',\n",
       "               '2024-01-14', '2024-01-15', '2024-01-16', '2024-01-17',\n",
       "               '2024-01-18', '2024-01-19', '2024-01-20', '2024-01-21',\n",
       "               '2024-01-22', '2024-01-23', '2024-01-24', '2024-01-25',\n",
       "               '2024-01-26', '2024-01-27'],\n",
       "              dtype='datetime64[ns]', name='date', freq=None)"
      ]
     },
     "execution_count": 15,
     "metadata": {},
     "output_type": "execute_result"
    }
   ],
   "source": [
    "test.index"
   ]
  },
  {
   "cell_type": "code",
   "execution_count": 16,
   "metadata": {},
   "outputs": [
    {
     "data": {
      "text/plain": [
       "DatetimeIndex(['2023-10-26', '2023-10-27', '2023-10-28', '2023-10-29',\n",
       "               '2023-10-30', '2023-10-31', '2023-11-01', '2023-11-02',\n",
       "               '2023-11-03', '2023-11-04', '2023-11-05', '2023-11-06',\n",
       "               '2023-11-07', '2023-11-08', '2023-11-09', '2023-11-10',\n",
       "               '2023-11-11', '2023-11-12', '2023-11-13', '2023-11-14',\n",
       "               '2023-11-15', '2023-11-16', '2023-11-17', '2023-11-18',\n",
       "               '2023-11-19', '2023-11-20', '2023-11-21', '2023-11-22',\n",
       "               '2023-11-23', '2023-11-24', '2023-11-25', '2023-11-26',\n",
       "               '2023-11-27', '2023-11-28', '2023-11-29', '2023-11-30',\n",
       "               '2023-12-01', '2023-12-02', '2023-12-03', '2023-12-04',\n",
       "               '2023-12-05', '2023-12-06', '2023-12-07', '2023-12-08',\n",
       "               '2023-12-09', '2023-12-10', '2023-12-11', '2023-12-12',\n",
       "               '2023-12-13', '2023-12-14', '2023-12-15', '2023-12-16',\n",
       "               '2023-12-17', '2023-12-18', '2023-12-19', '2023-12-20',\n",
       "               '2023-12-21', '2023-12-22', '2023-12-23', '2023-12-24',\n",
       "               '2023-12-25', '2023-12-26', '2023-12-27', '2023-12-28',\n",
       "               '2023-12-29', '2023-12-30', '2023-12-31', '2024-01-01',\n",
       "               '2024-01-02', '2024-01-03', '2024-01-04', '2024-01-05',\n",
       "               '2024-01-06', '2024-01-07', '2024-01-08', '2024-01-09',\n",
       "               '2024-01-10', '2024-01-11', '2024-01-12', '2024-01-13',\n",
       "               '2024-01-14', '2024-01-15', '2024-01-16', '2024-01-17',\n",
       "               '2024-01-18', '2024-01-19', '2024-01-20', '2024-01-21',\n",
       "               '2024-01-22', '2024-01-23', '2024-01-24', '2024-01-25',\n",
       "               '2024-01-26', '2024-01-27'],\n",
       "              dtype='datetime64[ns]', name='date', freq=None)"
      ]
     },
     "execution_count": 16,
     "metadata": {},
     "output_type": "execute_result"
    }
   ],
   "source": [
    "sarimax_pred_mean.index"
   ]
  },
  {
   "cell_type": "code",
   "execution_count": 17,
   "metadata": {},
   "outputs": [],
   "source": [
    "sarimax_pred_hourly = np.repeat(sarimax_pred_mean.values, 24)"
   ]
  },
  {
   "cell_type": "code",
   "execution_count": 18,
   "metadata": {},
   "outputs": [],
   "source": [
    "scaler = MinMaxScaler()\n",
    "scaled_data = scaler.fit_transform(sarimax_pred_hourly.reshape(-1, 1))"
   ]
  },
  {
   "cell_type": "code",
   "execution_count": 19,
   "metadata": {},
   "outputs": [],
   "source": [
    "sequence_length = 10\n",
    "x, y = [], []\n",
    "for i in range(len(scaled_data) - sequence_length):\n",
    "    x.append(scaled_data[i:(i + sequence_length)])\n",
    "    y.append(scaled_data[i + sequence_length])\n",
    "\n",
    "x, y = np.array(x), np.array(y)"
   ]
  },
  {
   "cell_type": "code",
   "execution_count": 20,
   "metadata": {},
   "outputs": [],
   "source": [
    "x = np.reshape(x, (x.shape[0], x.shape[1], 1))"
   ]
  },
  {
   "cell_type": "code",
   "execution_count": 21,
   "metadata": {},
   "outputs": [
    {
     "name": "stdout",
     "output_type": "stream",
     "text": [
      "Epoch 1/17\n",
      "71/71 [==============================] - 3s 10ms/step - loss: 0.0319\n",
      "Epoch 2/17\n",
      "71/71 [==============================] - 1s 9ms/step - loss: 0.0076\n",
      "Epoch 3/17\n",
      "71/71 [==============================] - 1s 9ms/step - loss: 0.0068\n",
      "Epoch 4/17\n",
      "71/71 [==============================] - 1s 9ms/step - loss: 0.0061\n",
      "Epoch 5/17\n",
      "71/71 [==============================] - 1s 9ms/step - loss: 0.0053\n",
      "Epoch 6/17\n",
      "71/71 [==============================] - 1s 9ms/step - loss: 0.0046\n",
      "Epoch 7/17\n",
      "71/71 [==============================] - 1s 9ms/step - loss: 0.0042\n",
      "Epoch 8/17\n",
      "71/71 [==============================] - 1s 9ms/step - loss: 0.0042\n",
      "Epoch 9/17\n",
      "71/71 [==============================] - 1s 9ms/step - loss: 0.0040\n",
      "Epoch 10/17\n",
      "71/71 [==============================] - 1s 9ms/step - loss: 0.0036\n",
      "Epoch 11/17\n",
      "71/71 [==============================] - 1s 9ms/step - loss: 0.0034\n",
      "Epoch 12/17\n",
      "71/71 [==============================] - 1s 9ms/step - loss: 0.0033\n",
      "Epoch 13/17\n",
      "71/71 [==============================] - 1s 9ms/step - loss: 0.0030\n",
      "Epoch 14/17\n",
      "71/71 [==============================] - 1s 9ms/step - loss: 0.0030\n",
      "Epoch 15/17\n",
      "71/71 [==============================] - 1s 9ms/step - loss: 0.0028\n",
      "Epoch 16/17\n",
      "71/71 [==============================] - 1s 8ms/step - loss: 0.0028\n",
      "Epoch 17/17\n",
      "71/71 [==============================] - 1s 9ms/step - loss: 0.0025\n"
     ]
    },
    {
     "data": {
      "text/plain": [
       "<keras.callbacks.History at 0x7f4d8e3e7760>"
      ]
     },
     "execution_count": 21,
     "metadata": {},
     "output_type": "execute_result"
    }
   ],
   "source": [
    "lstm_model = Sequential()\n",
    "lstm_model.add(LSTM(units=50, return_sequences=True, input_shape=(x.shape[1], 1)))\n",
    "lstm_model.add(LSTM(units=50))\n",
    "lstm_model.add(Dense(units=1))\n",
    "lstm_model.compile(optimizer='adam', loss='mean_squared_error')\n",
    "lstm_model.fit(x, y, epochs=17, batch_size=32)"
   ]
  },
  {
   "cell_type": "code",
   "execution_count": 22,
   "metadata": {},
   "outputs": [],
   "source": [
    "future_hours = 12  # Number of hours to predict\n",
    "input_sequence = scaled_data[-sequence_length:].reshape(1, -1, 1)"
   ]
  },
  {
   "cell_type": "code",
   "execution_count": 23,
   "metadata": {},
   "outputs": [
    {
     "name": "stdout",
     "output_type": "stream",
     "text": [
      "1/1 [==============================] - 0s 451ms/step\n",
      "1/1 [==============================] - 0s 19ms/step\n",
      "1/1 [==============================] - 0s 17ms/step\n",
      "1/1 [==============================] - 0s 17ms/step\n",
      "1/1 [==============================] - 0s 17ms/step\n",
      "1/1 [==============================] - 0s 17ms/step\n",
      "1/1 [==============================] - 0s 16ms/step\n",
      "1/1 [==============================] - 0s 17ms/step\n",
      "1/1 [==============================] - 0s 16ms/step\n",
      "1/1 [==============================] - 0s 16ms/step\n",
      "1/1 [==============================] - 0s 19ms/step\n",
      "1/1 [==============================] - 0s 16ms/step\n"
     ]
    }
   ],
   "source": [
    "lstm_preds = []\n",
    "for _ in range(future_hours):\n",
    "    lstm_pred = lstm_model.predict(input_sequence)\n",
    "    lstm_preds.append(lstm_pred[0, 0])\n",
    "    input_sequence = np.append(input_sequence[:, 1:, :], lstm_pred.reshape(1, 1, 1), axis=1)"
   ]
  },
  {
   "cell_type": "code",
   "execution_count": 24,
   "metadata": {},
   "outputs": [],
   "source": [
    "lstm_preds = scaler.inverse_transform(np.array(lstm_preds).reshape(-1, 1))"
   ]
  },
  {
   "cell_type": "code",
   "execution_count": 25,
   "metadata": {},
   "outputs": [
    {
     "data": {
      "text/plain": [
       "array([[12.029238 ],\n",
       "       [12.045326 ],\n",
       "       [12.06522  ],\n",
       "       [12.086246 ],\n",
       "       [12.107413 ],\n",
       "       [12.128303 ],\n",
       "       [12.148711 ],\n",
       "       [12.168536 ],\n",
       "       [12.187726 ],\n",
       "       [12.2062645],\n",
       "       [12.224153 ],\n",
       "       [12.241654 ]], dtype=float32)"
      ]
     },
     "execution_count": 25,
     "metadata": {},
     "output_type": "execute_result"
    }
   ],
   "source": [
    "lstm_preds"
   ]
  },
  {
   "cell_type": "code",
   "execution_count": 26,
   "metadata": {},
   "outputs": [
    {
     "data": {
      "text/plain": [
       "DatetimeIndex(['2023-10-26', '2023-10-27', '2023-10-28', '2023-10-29',\n",
       "               '2023-10-30', '2023-10-31', '2023-11-01', '2023-11-02',\n",
       "               '2023-11-03', '2023-11-04', '2023-11-05', '2023-11-06',\n",
       "               '2023-11-07', '2023-11-08', '2023-11-09', '2023-11-10',\n",
       "               '2023-11-11', '2023-11-12', '2023-11-13', '2023-11-14',\n",
       "               '2023-11-15', '2023-11-16', '2023-11-17', '2023-11-18',\n",
       "               '2023-11-19', '2023-11-20', '2023-11-21', '2023-11-22',\n",
       "               '2023-11-23', '2023-11-24', '2023-11-25', '2023-11-26',\n",
       "               '2023-11-27', '2023-11-28', '2023-11-29', '2023-11-30',\n",
       "               '2023-12-01', '2023-12-02', '2023-12-03', '2023-12-04',\n",
       "               '2023-12-05', '2023-12-06', '2023-12-07', '2023-12-08',\n",
       "               '2023-12-09', '2023-12-10', '2023-12-11', '2023-12-12',\n",
       "               '2023-12-13', '2023-12-14', '2023-12-15', '2023-12-16',\n",
       "               '2023-12-17', '2023-12-18', '2023-12-19', '2023-12-20',\n",
       "               '2023-12-21', '2023-12-22', '2023-12-23', '2023-12-24',\n",
       "               '2023-12-25', '2023-12-26', '2023-12-27', '2023-12-28',\n",
       "               '2023-12-29', '2023-12-30', '2023-12-31', '2024-01-01',\n",
       "               '2024-01-02', '2024-01-03', '2024-01-04', '2024-01-05',\n",
       "               '2024-01-06', '2024-01-07', '2024-01-08', '2024-01-09',\n",
       "               '2024-01-10', '2024-01-11', '2024-01-12', '2024-01-13',\n",
       "               '2024-01-14', '2024-01-15', '2024-01-16', '2024-01-17',\n",
       "               '2024-01-18', '2024-01-19', '2024-01-20', '2024-01-21',\n",
       "               '2024-01-22', '2024-01-23', '2024-01-24', '2024-01-25',\n",
       "               '2024-01-26', '2024-01-27'],\n",
       "              dtype='datetime64[ns]', name='date', freq=None)"
      ]
     },
     "execution_count": 26,
     "metadata": {},
     "output_type": "execute_result"
    }
   ],
   "source": [
    "test.index"
   ]
  },
  {
   "cell_type": "code",
   "execution_count": 27,
   "metadata": {},
   "outputs": [
    {
     "data": {
      "text/html": [
       "<div>\n",
       "<style scoped>\n",
       "    .dataframe tbody tr th:only-of-type {\n",
       "        vertical-align: middle;\n",
       "    }\n",
       "\n",
       "    .dataframe tbody tr th {\n",
       "        vertical-align: top;\n",
       "    }\n",
       "\n",
       "    .dataframe thead th {\n",
       "        text-align: right;\n",
       "    }\n",
       "</style>\n",
       "<table border=\"1\" class=\"dataframe\">\n",
       "  <thead>\n",
       "    <tr style=\"text-align: right;\">\n",
       "      <th></th>\n",
       "      <th>0</th>\n",
       "    </tr>\n",
       "  </thead>\n",
       "  <tbody>\n",
       "    <tr>\n",
       "      <th>2024-01-27 00:00:00</th>\n",
       "      <td>12.029238</td>\n",
       "    </tr>\n",
       "    <tr>\n",
       "      <th>2024-01-27 01:00:00</th>\n",
       "      <td>12.045326</td>\n",
       "    </tr>\n",
       "    <tr>\n",
       "      <th>2024-01-27 02:00:00</th>\n",
       "      <td>12.065220</td>\n",
       "    </tr>\n",
       "    <tr>\n",
       "      <th>2024-01-27 03:00:00</th>\n",
       "      <td>12.086246</td>\n",
       "    </tr>\n",
       "    <tr>\n",
       "      <th>2024-01-27 04:00:00</th>\n",
       "      <td>12.107413</td>\n",
       "    </tr>\n",
       "    <tr>\n",
       "      <th>2024-01-27 05:00:00</th>\n",
       "      <td>12.128303</td>\n",
       "    </tr>\n",
       "    <tr>\n",
       "      <th>2024-01-27 06:00:00</th>\n",
       "      <td>12.148711</td>\n",
       "    </tr>\n",
       "    <tr>\n",
       "      <th>2024-01-27 07:00:00</th>\n",
       "      <td>12.168536</td>\n",
       "    </tr>\n",
       "    <tr>\n",
       "      <th>2024-01-27 08:00:00</th>\n",
       "      <td>12.187726</td>\n",
       "    </tr>\n",
       "    <tr>\n",
       "      <th>2024-01-27 09:00:00</th>\n",
       "      <td>12.206264</td>\n",
       "    </tr>\n",
       "    <tr>\n",
       "      <th>2024-01-27 10:00:00</th>\n",
       "      <td>12.224153</td>\n",
       "    </tr>\n",
       "    <tr>\n",
       "      <th>2024-01-27 11:00:00</th>\n",
       "      <td>12.241654</td>\n",
       "    </tr>\n",
       "  </tbody>\n",
       "</table>\n",
       "</div>"
      ],
      "text/plain": [
       "                             0\n",
       "2024-01-27 00:00:00  12.029238\n",
       "2024-01-27 01:00:00  12.045326\n",
       "2024-01-27 02:00:00  12.065220\n",
       "2024-01-27 03:00:00  12.086246\n",
       "2024-01-27 04:00:00  12.107413\n",
       "2024-01-27 05:00:00  12.128303\n",
       "2024-01-27 06:00:00  12.148711\n",
       "2024-01-27 07:00:00  12.168536\n",
       "2024-01-27 08:00:00  12.187726\n",
       "2024-01-27 09:00:00  12.206264\n",
       "2024-01-27 10:00:00  12.224153\n",
       "2024-01-27 11:00:00  12.241654"
      ]
     },
     "execution_count": 27,
     "metadata": {},
     "output_type": "execute_result"
    }
   ],
   "source": [
    "pd.DataFrame(lstm_preds, pd.date_range(start=test.index.max(), periods=future_hours, freq='H'))"
   ]
  },
  {
   "cell_type": "code",
   "execution_count": 28,
   "metadata": {},
   "outputs": [
    {
     "data": {
      "image/png": "[encoded data removed]",
      "text/plain": [
       "<Figure size 1500x600 with 1 Axes>"
      ]
     },
     "metadata": {},
     "output_type": "display_data"
    }
   ],
   "source": [
    "plt.figure(figsize=(15, 6))\n",
    "#plt.plot(train.index, train[' so2'], label='Train data', color='blue')\n",
    "plt.plot(test.index, test[' so2'], label='Actual Data', color='blue')\n",
    "plt.plot(sarimax_pred_mean.index, sarimax_pred_mean.values, label='SARIMAX Predictions', color='green')\n",
    "plt.plot(pd.date_range(start=test.index.max(), periods=future_hours, freq='H'), lstm_preds, label='LSTM Predictions', color='red')\n",
    "plt.legend()\n",
    "plt.title('SARIMAX-LSTM Model Predictions - so2')\n",
    "plt.xlabel('Date')\n",
    "plt.ylabel('pm25')\n",
    "plt.show()"
   ]
  },
  {
   "cell_type": "code",
   "execution_count": 29,
   "metadata": {},
   "outputs": [
    {
     "data": {
      "text/plain": [
       "4.7779050895234425"
      ]
     },
     "execution_count": 29,
     "metadata": {},
     "output_type": "execute_result"
    }
   ],
   "source": [
    "rmse = mean_squared_error(test[' so2'], sarimax_pred_mean.values)\n",
    "rmse**0.5"
   ]
  }
 ],
 "metadata": {
  "kernelspec": {
   "display_name": "Python 3",
   "language": "python",
   "name": "python3"
  },
  "language_info": {
   "codemirror_mode": {
    "name": "ipython",
    "version": 3
   },
   "file_extension": ".py",
   "mimetype": "text/x-python",
   "name": "python",
   "nbconvert_exporter": "python",
   "pygments_lexer": "ipython3",
   "version": "3.9.2"
  }
 },
 "nbformat": 4,
 "nbformat_minor": 2
}
